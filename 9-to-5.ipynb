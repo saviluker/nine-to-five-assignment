{
    "cells": [
        {
            "cell_type": "markdown",
            "metadata": {
                "azdata_cell_guid": "7ad962b3-fce2-439c-9ac4-460e1a79b0e8"
            },
            "source": [
                "# Graded Assignment 3: 9 to 5\n",
                "\n",
                "Time to show off your SQL skills! For each question, copy the SQL query you used and make note of the answer.\n",
                "\n",
                "## The Dataset\n",
                "\n",
                "For this assignment, you will be using the Bureau of Labor Statistics (BLS) Current Employment Survey (CES) results which can be found on [Kaggle](https://www.kaggle.com/datasets/bls/employment).\n",
                "\n",
                "## Business Issue\n",
                "\n",
                "You are working for the Bureau of Labor Statistics with the United States government and have been approached by your boss with an important meeting request. You have been asked by your supervisor to meet with Dolly Parton whose nonprofit is looking to shed light on the state of employment in the United States. As part of the 9 to 5 project, their research is focused on production and nonsupervisory employees and how those employees fare compared to all employees in the United States. While the data the BLS collects from the CES is publicly available, Dolly Parton and her colleagues need your assistance navigating the thousands of rows in each table in LaborStatisticsDB.\n",
                "\n",
                "## About the Dataset\n",
                "\n",
                "This dataset comes directly from the Bureau of Labor Statistics’ Current Employment Survey (CES). Here are some things you need to know:\n",
                "\n",
                "1. The industry table contains an NAICS code. This is different from the industry code. NAICS stands for North American Industry Classification System.\n",
                "1. Series ID is composed of multiple different codes. CES stands for Current Employment Survey, the name of the survey which collected the data. The industry code as specified by the BLS and the data type code as specified in the datatype table.\n",
                "\n",
                "## Set Up\n",
                "\n",
                "To connect to the database, use the same connection info used during the SQL lessons. \n",
                "\n",
                "For the assignment, we will be using `LaborStatisticsDB`."
            ]
        },
        {
            "cell_type": "markdown",
            "metadata": {
                "azdata_cell_guid": "dcbb5ae7-a9c8-4d48-8986-8a0f778cc6c6"
            },
            "source": [
                "## Database Exploration\n",
                "\n",
                "To start with, let’s get to know the database further.\n",
                "\n",
                "1. Use this space to make note of each table in the database, the columns within each table, each column’s data type, and how the tables are connected. You can write this down or draw a diagram. Whatever method helps you get an understanding of what is going on with `LaborStatisticsDB`.\n",
                "   \n",
                "   To add a photo, diagram or document to your file, drop the file into the folder that holds this notebook.  Use the link button to the right of the  </> symbol in the gray part of this cell, the link is just the name of your file."
            ]
        },
        {
            "cell_type": "code",
            "execution_count": null,
            "metadata": {
                "azdata_cell_guid": "adb853fc-e2ab-416a-89f0-eb1d6f5b4af8",
                "language": "sql",
                "vscode": {
                    "languageId": "sql"
                }
            },
            "outputs": [],
            "source": [
                "LaborStatisticsDB\n",
                "    dbo.annual_2016:\n",
                "    id/ series_id/ year/ period/ footnote_code/ original_file\n",
                "\n",
                "    dbo.datatype:\n",
                "    data_type_code/ data_type_text (categories of types of workers/hourly, weekly pay, employmenht for women, etc.)\n",
                "\n",
                "    dbo.footnote:\n",
                "    footnote_code/ footnote_text (seasonally adjusted, priliminary)\n",
                "\n",
                "    dbo.industry:\n",
                "    id/ industry_code/ naics_code/ publishing_status/ industry_name/ display_level/ selectable/ sort_sequence\n",
                "\n",
                "    dbo.january_2017:\n",
                "    id/ series_id/ year/ period/ value/ footnote_code/ original_file \n",
                "\n",
                "    dbo.period:\n",
                "    period_code/ month_abbr/ month \n",
                "\n",
                "    dbo.seasonal: \n",
                "    industry_code/ seasonal_text (seasonally adjusted, not seasonally adjusted)\n",
                "\n",
                "    dbo.series:\n",
                "    series_id/ supersector_code/ industry_code/ data_type_code/ seasonal/ series_title\n",
                "\n",
                "    dbo.supersector:\n",
                "    supersector_code/ supersector_name \n",
                "\n",
                "\n",
                "    Connections: \n",
                "    ID: dbo.annual_2016, dbo.industry, dbo.january_2017, \n",
                "\n",
                "    Series_ID: dbo.annual_2016, dbo.january_2017, dbo.series_id\n",
                "\n",
                "    Period: dbo.period, dbo.annual_2016, dbo.january_2017\n",
                "\n",
                "    Footnote code: dbo.footnote, dbo.annual_2016, dbo.january_2017\n",
                "\n",
                "    Original File: dbo.annual_2016, dbo.january_2017\n",
                "\n",
                "    Industry Code: dbo.industry, dbo.seasonal, dbo.series \n",
                "\n",
                "    Supersector code: dbo.supersector, dbo.series, \n",
                "\n",
                "    Data_type_code: dbo.datatype, dbo.series\n",
                "    \n"
            ]
        },
        {
            "cell_type": "markdown",
            "metadata": {
                "azdata_cell_guid": "87e95d63-f756-4afc-98d9-ed1dcfb95466"
            },
            "source": [
                "2. What is the datatype for women employees?"
            ]
        },
        {
            "cell_type": "code",
            "execution_count": null,
            "metadata": {
                "azdata_cell_guid": "e695b98b-25ed-4bec-8407-6f060e711df1",
                "language": "sql",
                "vscode": {
                    "languageId": "sql"
                }
            },
            "outputs": [],
            "source": [
                "select *\n",
                "from LaborStatisticsDB.dbo.datatype \n",
                "where data_type_text like '%women%'\n",
                "-- data_type_code 10: Women Employees\n",
                "--data_type_code 39: Women Employees-to-all employees ratio "
            ]
        },
        {
            "cell_type": "markdown",
            "metadata": {
                "azdata_cell_guid": "5e72355c-a069-483d-8e57-33c8244e54d3"
            },
            "source": [
                "3. What is the series id for  women employees in the commercial banking industry in the financial activities supersector?"
            ]
        },
        {
            "cell_type": "code",
            "execution_count": null,
            "metadata": {
                "azdata_cell_guid": "3ecf48c5-07bb-4063-aef5-96b4212f5150",
                "language": "sql",
                "vscode": {
                    "languageId": "sql"
                }
            },
            "outputs": [],
            "source": [
                "select *\n",
                "from LaborStatisticsDB.dbo.series\n",
                "where industry_code = 55522110 and series_title like '%women%' and supersector_code = 55\n",
                "--series ID CES5552211010"
            ]
        },
        {
            "cell_type": "markdown",
            "metadata": {
                "azdata_cell_guid": "44ff5801-e75c-405f-bba2-e4f864356f0a"
            },
            "source": [
                "## Aggregate Your Friends and Code some SQL\n",
                "\n",
                "Put together the following:\n",
                "\n",
                "1. How many employees were reported in 2016 in all industries? Round to the nearest whole number."
            ]
        },
        {
            "cell_type": "code",
            "execution_count": null,
            "metadata": {
                "azdata_cell_guid": "2f2aa59f-b6c5-470f-9f72-8bc0ec5178ab",
                "language": "sql",
                "vscode": {
                    "languageId": "sql"
                }
            },
            "outputs": [],
            "source": [
                "select sum (value)\n",
                "from laborstatisticsdb.dbo.annual_2016 as A\n",
                "left join laborstatisticsdb.dbo.series as S \n",
                " ON a.series_id = s.series_id\n",
                " where data_type_code in (1, 25, 26)\n",
                "--shows value as 2340612"
            ]
        },
        {
            "cell_type": "markdown",
            "metadata": {
                "azdata_cell_guid": "29d32b99-da7f-4c98-b757-ff3704d136e8"
            },
            "source": [
                "2. How many women employees were reported in 2016 in all industries? Round to the nearest whole number. "
            ]
        },
        {
            "cell_type": "code",
            "execution_count": null,
            "metadata": {
                "azdata_cell_guid": "6e478ad7-1a7e-460c-8000-1e6c10373731",
                "language": "sql",
                "vscode": {
                    "languageId": "sql"
                }
            },
            "outputs": [],
            "source": [
                "SELECT SUM(a.value) AS total_value\n",
                "FROM LaborStatisticsDB.dbo.annual_2016 AS a\n",
                "LEFT JOIN LaborStatisticsDB.dbo.series AS s\n",
                "  ON a.series_id = s.series_id\n",
                "WHERE s.data_type_code = 10\n",
                "--1125490 women employees in all industries "
            ]
        },
        {
            "cell_type": "markdown",
            "metadata": {
                "azdata_cell_guid": "6b173ff0-3ec9-45b1-b9c1-08351f9ae595"
            },
            "source": [
                "3. How many production/nonsupervisory employees were reported in 2016? Round to the nearest whole number. "
            ]
        },
        {
            "cell_type": "code",
            "execution_count": null,
            "metadata": {
                "azdata_cell_guid": "8532a572-5cd6-4d06-b770-c3f1c7c4e8b2",
                "language": "sql",
                "vscode": {
                    "languageId": "sql"
                }
            },
            "outputs": [],
            "source": [
                "SELECT SUM(a.value) AS total_value\n",
                "FROM LaborStatisticsDB.dbo.annual_2016 AS a\n",
                "LEFT JOIN LaborStatisticsDB.dbo.series AS s\n",
                "  ON a.series_id = s.series_id\n",
                "WHERE s.data_type_code = 6\n",
                "--production/ non-supervisory employees reported were 1263650\n"
            ]
        },
        {
            "cell_type": "markdown",
            "metadata": {
                "azdata_cell_guid": "f0e5cd3c-1e07-4718-858f-026045a0a438"
            },
            "source": [
                "4. In January 2017, what is the average weekly hours worked by production and nonsupervisory employees across all industries?"
            ]
        },
        {
            "cell_type": "code",
            "execution_count": null,
            "metadata": {
                "azdata_cell_guid": "ed56d1e6-8622-4b43-923f-6892977b3409",
                "language": "sql",
                "vscode": {
                    "languageId": "sql"
                }
            },
            "outputs": [],
            "source": [
                "select *\n",
                "from LaborStatisticsDB.dbo.series\n",
                "where series_title like '%production%'\n",
                "--data type code for average weekly hours worked by production and nonsupervisory employees= 7\n",
                "\n",
                "SELECT SUM(j.value) AS total_value\n",
                "FROM LaborStatisticsDB.dbo.january_2017 AS j\n",
                "LEFT JOIN LaborStatisticsDB.dbo.series AS s\n",
                "  ON j.series_id = s.series_id\n",
                "WHERE s.data_type_code = 7\n",
                "--average weekly hours worked by production and non-supervisory employees in january 2017= 79473.2"
            ]
        },
        {
            "cell_type": "markdown",
            "metadata": {
                "azdata_cell_guid": "8b6d0663-d4c3-4420-99ed-1c99f1d1942c"
            },
            "source": [
                "5. What is the total weekly payroll for production and nonsupervisory employees across all industries in January 2017? Round to the nearest penny."
            ]
        },
        {
            "cell_type": "code",
            "execution_count": null,
            "metadata": {
                "azdata_cell_guid": "aba326a4-ea96-472e-9b4d-fff929aedc13",
                "language": "sql",
                "vscode": {
                    "languageId": "sql"
                }
            },
            "outputs": [],
            "source": [
                "\n",
                "select sum(value)\n",
                "from LaborStatisticsDB.dbo.january_2017\n",
                "where series_id in (\n",
                "  select series_id\n",
                "  from laborstatisticsdb.dbo.series\n",
                "  where series_title like 'aggregate weekly payrolls of production and nonsupervisory employees'\n",
                "  )\n",
                "  -- aggregate weekly payroll for production and nonsupervisory employees january-2017 was 1,838,753,220"
            ]
        },
        {
            "cell_type": "markdown",
            "metadata": {
                "azdata_cell_guid": "cdc4508a-a76c-4e36-a816-3c26ef47e710"
            },
            "source": [
                "6. In January 2017, for which industry was the average weekly hours worked by production and nonsupervisory employees the highest? Which industry was the lowest?"
            ]
        },
        {
            "cell_type": "code",
            "execution_count": null,
            "metadata": {
                "azdata_cell_guid": "a6758e01-7ca6-43af-b8b8-04b8120c8a49",
                "language": "sql",
                "vscode": {
                    "languageId": "sql"
                }
            },
            "outputs": [],
            "source": [
                "select i.industry_name, j.value\n",
                "from LaborStatisticsDB.dbo.series s \n",
                "inner join LaborStatisticsDB.dbo.january_2017 j\n",
                "  on s.series_id = j.series_id\n",
                "inner join LaborStatisticsDB.dbo.industry i\n",
                "on i.industry_code = s.industry_code \n",
                "where s.series_title = 'average weekly hours of production and nonsupervisory employees'\n",
                "order by j.value DESC\n",
                "--industry with highest average hours in January was Motor Vehicle Power Train Components- 49.8 hours \n",
                "\n",
                "select i.industry_name, j.value\n",
                "from LaborStatisticsDB.dbo.series s \n",
                "inner join LaborStatisticsDB.dbo.january_2017 j\n",
                "  on s.series_id = j.series_id\n",
                "inner join LaborStatisticsDB.dbo.industry i\n",
                "on i.industry_code = s.industry_code \n",
                "where s.series_title = 'average weekly hours of production and nonsupervisory employees'\n",
                "order by j.value asc \n",
                "--industry with lowest average hours in january was Fitness and recreational sports centers --16.7 hours"
            ]
        },
        {
            "cell_type": "markdown",
            "metadata": {
                "azdata_cell_guid": "328915a2-60d5-4c87-b6c2-8e55fab39af3"
            },
            "source": [
                "7. In January 2021, for which industry was the total weekly payroll for production and nonsupervisory employees the highest? Which industry was the lowest?"
            ]
        },
        {
            "cell_type": "code",
            "execution_count": null,
            "metadata": {
                "azdata_cell_guid": "f3985220-b4b7-46f3-ba1a-e041a87be58b",
                "language": "sql",
                "vscode": {
                    "languageId": "sql"
                }
            },
            "outputs": [],
            "source": [
                "select i.industry_name, j.value\n",
                "from LaborStatisticsDB.dbo.series s \n",
                "inner join LaborStatisticsDB.dbo.january_2017 j\n",
                "  on s.series_id = j.series_id\n",
                "inner join LaborStatisticsDB.dbo.industry i\n",
                "on i.industry_code = s.industry_code \n",
                "where s.series_title = 'aggregate weekly payrolls of production and nonsupervisory employees'\n",
                "order by j.value DESC\n",
                "--total private has highest weekly payrolls at 74,498,171\n",
                "\n",
                "select i.industry_name, j.value\n",
                "from LaborStatisticsDB.dbo.series s \n",
                "inner join LaborStatisticsDB.dbo.january_2017 j\n",
                "  on s.series_id = j.series_id\n",
                "inner join LaborStatisticsDB.dbo.industry i\n",
                "on i.industry_code = s.industry_code \n",
                "where s.series_title = 'aggregate weekly payrolls of production and nonsupervisory employees'\n",
                "order by j.value asc\n",
                "--lowest weekly payrolls is for coin-operated laundries and drycleaners at 10,079"
            ]
        },
        {
            "cell_type": "markdown",
            "metadata": {
                "azdata_cell_guid": "9c5c9cb4-4376-4645-bf52-c359bad1853e"
            },
            "source": [
                "## Join in on the Fun\n",
                "\n",
                "Time to start joining! You can choose the type of join you use, just make sure to make a  note!\n",
                "\n",
                "1. Join `annual_2016` with `series` on `series_id`. We only want the data in the `annual_2016` table to be included in the result."
            ]
        },
        {
            "cell_type": "code",
            "execution_count": null,
            "metadata": {
                "azdata_cell_guid": "6c1fad5a-9af5-4ebe-b7bf-eb611688cb14",
                "language": "sql",
                "vscode": {
                    "languageId": "sql"
                }
            },
            "outputs": [
                {
                    "data": {
                        "text/html": [
                            "Commands completed successfully."
                        ]
                    },
                    "metadata": {},
                    "output_type": "display_data"
                },
                {
                    "data": {
                        "text/html": [
                            "Total execution time: 00:00:00.019"
                        ]
                    },
                    "metadata": {},
                    "output_type": "display_data"
                }
            ],
            "source": [
                "-- Limiting rows returned from query, uncomment the line below to start on your query!\n",
                "-- SELECT TOP 50 *\n",
                "select top 50 *\n",
                "from laborstatisticsdb.dbo.annual_2016 as a\n",
                "left join laborstatisticsdb.dbo.series as S \n",
                "on a.series_id = s.series_id \n",
                "\n",
                "\n",
                "-- Uncomment the line below when you are ready to run the query, leaving it as your last!\n",
                "-- ORDER BY id\n",
                "\n",
                "select top 50 *\n",
                "from laborstatisticsdb.dbo.annual_2016 as a\n",
                "left join laborstatisticsdb.dbo.series as S \n",
                "on a.series_id = s.series_id \n",
                "order by id \n",
                "\n",
                "--used a left join to keep the annual_2016 table "
            ]
        },
        {
            "cell_type": "markdown",
            "metadata": {
                "azdata_cell_guid": "f0eefde2-fd6e-4cef-9426-3979c59ac61e"
            },
            "source": [
                "2. Join `series` and `datatype` on `data_type_code`."
            ]
        },
        {
            "cell_type": "code",
            "execution_count": null,
            "metadata": {
                "azdata_cell_guid": "0850cbeb-06f8-4b15-9f87-7a9ca7a87e91",
                "language": "sql",
                "vscode": {
                    "languageId": "sql"
                }
            },
            "outputs": [],
            "source": [
                "-- Limiting rows returned from query, uncomment the line below to start on your query!\n",
                "-- SELECT TOP 50 *\n",
                "select top 50*\n",
                "from laborstatisticsdb.dbo.series as series \n",
                "left join laborstatisticsdb.dbo.datatype as datatype \n",
                "on series.data_type_code = datatype.data_type_code \n",
                "\n",
                "-- Uncomment the line below when you are ready to run the query, leaving it as your last!\n",
                "-- ORDER BY id\n",
                "select top 50*\n",
                "from laborstatisticsdb.dbo.series as series \n",
                "left join laborstatisticsdb.dbo.datatype as datatype \n",
                "on series.data_type_code = datatype.data_type_code \n",
                "order by series_id "
            ]
        },
        {
            "cell_type": "markdown",
            "metadata": {
                "azdata_cell_guid": "ada4ecfc-8180-4951-b013-1b4ad14bb2a9"
            },
            "source": [
                "3. Join `series` and `industry` on `industry_code`."
            ]
        },
        {
            "cell_type": "code",
            "execution_count": null,
            "metadata": {
                "azdata_cell_guid": "4eaf2035-ec13-4c15-960f-a40fe73dc34d",
                "language": "sql",
                "vscode": {
                    "languageId": "sql"
                }
            },
            "outputs": [],
            "source": [
                "-- Limiting rows returned from query, uncomment the line below to start on your query!\n",
                "-- SELECT TOP 50 *\n",
                "select top 50* \n",
                "from laborstatisticsdb.dbo.series as S  \n",
                "left join laborstatisticsdb.dbo.industry as i \n",
                "on s.industry_code = i.industry_code \n",
                "\n",
                "-- Uncomment the line below when you are ready to run the query, leaving it as your last!\n",
                "-- ORDER BY id\n",
                "select top 50* \n",
                "from laborstatisticsdb.dbo.series as S  \n",
                "left join laborstatisticsdb.dbo.industry as i \n",
                "on s.industry_code = i.industry_code \n",
                "order by series_id"
            ]
        },
        {
            "cell_type": "markdown",
            "metadata": {
                "azdata_cell_guid": "7111eeba-9ab9-45b9-a4c5-09b809c63907"
            },
            "source": [
                "## Subqueries, Unions, Derived Tables, Oh My!\n",
                "\n",
                "1. Write a query that returns the `series_id`, `industry_code`, `industry_name`, and `value` from the `january_2017` table but only if that value is greater than the average value for `annual_2016` of `data_type_code` 82."
            ]
        },
        {
            "cell_type": "code",
            "execution_count": null,
            "metadata": {
                "azdata_cell_guid": "b747aa95-d3d7-4843-9f1a-13aae6902e3a",
                "language": "sql",
                "vscode": {
                    "languageId": "sql"
                }
            },
            "outputs": [],
            "source": [
                "\n",
                "select j.series_id, i.industry_code, i.industry_name, j.value\n",
                "from LaborStatisticsDB.dbo.january_2017 as j \n",
                "inner join LaborStatisticsDB.dbo.series as s \n",
                "on j.series_id = s.series_id \n",
                "left join LaborStatisticsDB.dbo.industry as i  \n",
                "on s.industry_code = i.industry_code\n",
                "where j.value >\n",
                "(select avg(value)\n",
                "from laborstatisticsdb.dbo.annual_2016 as annual\n",
                "left join laborstatisticsdb.dbo.series as series \n",
                "on annual.series_id = series.series_id \n",
                "where data_type_code = 82\n",
                ")\n",
                "order by value ASC \n",
                "--average aggregate weekly payrolls of production and nonsupervisory employees in 2016: 819960.34\n",
                "--results do not show production and nonsupervisory employees with amassing the same weekly payrolls in january 2017"
            ]
        },
        {
            "attachments": {},
            "cell_type": "markdown",
            "metadata": {
                "azdata_cell_guid": "21baa05a-e30c-4993-a63e-1e221bb27aa6",
                "language": "sql"
            },
            "source": [
                "**Optional Bonus Question:** Write the above query as a common table expression!"
            ]
        },
        {
            "cell_type": "code",
            "execution_count": null,
            "metadata": {
                "azdata_cell_guid": "a816a7e7-2175-446c-b4e4-4a3d6667d281",
                "language": "sql",
                "vscode": {
                    "languageId": "sql"
                }
            },
            "outputs": [],
            "source": [
                "-- Optional CTE below"
            ]
        },
        {
            "cell_type": "markdown",
            "metadata": {
                "azdata_cell_guid": "661cb463-cf71-40cb-9d03-9bb37492e2d5"
            },
            "source": [
                "2. Create a `Union` table comparing average weekly earnings of production and nonsupervisory employees between `annual_2016` and `january_2017` using the data type 30.  Round to the nearest penny.  You should have a column for the average earnings and a column for the year, and the period."
            ]
        },
        {
            "cell_type": "code",
            "execution_count": null,
            "metadata": {
                "azdata_cell_guid": "327f3949-b20f-4c1e-a126-6005719bf8df",
                "language": "sql",
                "vscode": {
                    "languageId": "sql"
                }
            },
            "outputs": [],
            "source": [
                "select avg(value)\n",
                "from laborstatisticsdb.dbo.annual_2016 as annual\n",
                "left join laborstatisticsdb.dbo.series as series \n",
                "on annual.series_id = series.series_id\n",
                "where data_type_code =30 \n",
                "union (\n",
                "  select avg(value)\n",
                "  from laborstatisticsdb.dbo.january_2017 as january\n",
                "  left join LaborStatisticsDB.dbo.series as series \n",
                "  on january.series_id = series.series_id\n",
                "  where data_type_code = 30\n",
                ")\n",
                "--weekly average payrolls for production and nonsupervisory employees:\n",
                "--annual_2016: 797.20\n",
                "--january_2017: 808.53"
            ]
        },
        {
            "cell_type": "markdown",
            "metadata": {
                "azdata_cell_guid": "cbda1089-6fdf-4b89-9651-54862cf7eb08"
            },
            "source": [
                "## Summarize Your Results\n",
                "\n",
                "With what you know now about the  Bureau of Labor Statistics (BLS) Current Employment Survey (CES) results and working with the Labor Statistics Database, answer the following questions. Note that while this is subjective, you should include relevant data to back up your opinion.\n",
                "\n",
                "1. During which time period did production and nonsupervisory employees fare better?\n",
                "\n",
                "    Based on the data, production and nonsupervisory employees earned more money on average in january 2017 compared to their averages in 2016. Average weekly payrolls for this group in 2016 was $797.20 and in January 2017, $808.53.  Production and nonsupervisory employees were better off in 2017 since they were paid more. "
            ]
        },
        {
            "cell_type": "markdown",
            "metadata": {
                "azdata_cell_guid": "ed5db53d-2fec-41a3-a9d3-367a676e6c02"
            },
            "source": []
        },
        {
            "cell_type": "markdown",
            "metadata": {
                "azdata_cell_guid": "e0028946-9a7f-48ba-a14d-6685d55e9423"
            },
            "source": [
                "2. In which industries did production and nonsupervisory employees fare better?\n",
                "\n",
                "select avg(annual.value) as average_weekly_earnings, data_type_code, industry_name, series_title\n",
                "from laborstatisticsDB.dbo.series as series\n",
                "inner join laborstatisticsDB.dbo.industry as industry\n",
                "on series.industry_code = industry.industry_code\n",
                "inner join laborstatisticsdb.dbo.annual_2016 as annual\n",
                "on annual.series_id = series.series_id  \n",
                "where series_title like '%average weekly earnings of production and nonsupervisory employees%'\n",
                "group by data_type_code, industry.industry_name, series.series_title \n",
                "order by average_weekly_earnings DESC   \n",
                "\n",
                "\n",
                "\n",
                "Based on the query above, the top 5 industries wit the highest average weekly earnings are:\n",
                "1.) Pipeline Transportation ($1730.96)\n",
                "2.) Software Publishers ($1720.42)\n",
                "3.) Petroleum and Coal Products ($1718.26)\n",
                "4.) Fossil Fuel Electric Power Generation ($1712.65)\n",
                "5.) Reinsurance Carriers ($1699.97)\n",
                "\n",
                "\n",
                "\n",
                "select avg(annual.value) as average_weekly_hours, data_type_code, industry_name, series_title\n",
                "from laborstatisticsDB.dbo.series as series\n",
                "inner join laborstatisticsDB.dbo.industry as industry\n",
                "on series.industry_code = industry.industry_code\n",
                "inner join laborstatisticsdb.dbo.annual_2016 as annual\n",
                "on annual.series_id = series.series_id  \n",
                "where series_title like '%average weekly hours of production and nonsupervisory employees%'\n",
                "group by data_type_code, industry.industry_name, series.series_title \n",
                "order by average_weekly_hours DESC   \n",
                "\n",
                "\n",
                "\n",
                "Based on the query above, the top 5 industries with the highest average weekly hours are:\n",
                "1.) Motor Vehicle Power Train Components (51.4 hours)\n",
                "2.) Crushed and Broken Limestone Mining (48.4)\n",
                "3.) Oil and Gas Pipeline Construction (47.8)\n",
                "4.) Stone Mining and Quarrying (47.6)\n",
                "5.) Support Activities for Mining (46.7)\n",
                "\n",
                "\n",
                "select avg(annual.value) as average_hourly_earnings, data_type_code, industry_name, series_title\n",
                "from laborstatisticsDB.dbo.series as series\n",
                "inner join laborstatisticsDB.dbo.industry as industry\n",
                "on series.industry_code = industry.industry_code\n",
                "inner join laborstatisticsdb.dbo.annual_2016 as annual\n",
                "on annual.series_id = series.series_id  \n",
                "where series_title like '%average hourly earnings of production and nonsupervisory employees%'\n",
                "group by data_type_code, industry.industry_name, series.series_title \n",
                "order by average_hourly_earnings DESC  \n",
                "\n",
                "\n",
                "\n",
                "--Based on the above query, the industries with the highest average hourly earnings are:\n",
                "1.) Reinsurance Carriers ($46.63/hour)\n",
                "2.) Software Publishers ($45.34/hour) \n",
                "3.) Portfolio Management ($43.64/hour) \n",
                "4.) Customer Computer Programming Services ($42.50/hour) \n",
                "5.) Computer Systems Design and Related Services ($41.29)\n",
                "\n",
                "\n",
                "\n",
                "\n",
                "My analysis shows that more industrial industries have most opportunies for working extra hours, thus likely making more money. I found that the industries that have a higher rate of pay are tend to be employees that are in computer sciences, finances, and insurance.  \n"
            ]
        },
        {
            "cell_type": "markdown",
            "metadata": {
                "azdata_cell_guid": "d1fc3b34-cee3-4565-8233-fbb225573974"
            },
            "source": []
        },
        {
            "cell_type": "markdown",
            "metadata": {
                "azdata_cell_guid": "0db4c4b1-151b-43f8-9a7a-14d45e15a678"
            },
            "source": [
                "3. Now that you have explored the datasets, is there any data or information that you wish you had in this analysis?\n",
                "\n",
                "Going further with the analysis, I think it would be intesting to have data on how many women work in each industry. For instance, I found in my analyses that more industrial industries that are focused in quarrying rocks and manufacturing mechanical components have the highest number of hours worked, on average. I am curious what percentage of the workforce for those jobs are held by women. Furthermore, what percentage of women hold positions in the highest paying industries such as software publishing, portfolio management and computer sciences?  Do women tend to make less money than men because they hold jobs that statistically pay less per hour? How much do women get in the highest paid industries compared to the average? What is the difference between average male and female wages in the same industry? \n",
                "\n",
                "These are topics that I think would be interesting to figure out if there were more data points to compare within industries. "
            ]
        },
        {
            "cell_type": "markdown",
            "metadata": {
                "azdata_cell_guid": "072f17a7-ad63-493a-934f-33660ae1d576"
            },
            "source": []
        }
    ],
    "metadata": {
        "kernelspec": {
            "display_name": "Python 3",
            "language": "python",
            "name": "python3"
        },
        "language_info": {
            "name": "python",
            "version": "3.13.7"
        }
    },
    "nbformat": 4,
    "nbformat_minor": 2
}
